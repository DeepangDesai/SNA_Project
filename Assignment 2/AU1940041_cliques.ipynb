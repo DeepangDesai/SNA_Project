{
 "cells": [
  {
   "cell_type": "code",
   "execution_count": 1,
   "metadata": {},
   "outputs": [
    {
     "name": "stdout",
     "output_type": "stream",
     "text": [
      "Requirement already satisfied: networkx in /home/gitpod/.pyenv/versions/3.8.12/lib/python3.8/site-packages (2.8)\n",
      "\u001b[33mWARNING: You are using pip version 22.0.3; however, version 22.0.4 is available.\n",
      "You should consider upgrading via the '/home/gitpod/.pyenv/versions/3.8.12/bin/python -m pip install --upgrade pip' command.\u001b[0m\u001b[33m\n",
      "\u001b[0mNote: you may need to restart the kernel to use updated packages.\n"
     ]
    }
   ],
   "source": [
    "pip install networkx"
   ]
  },
  {
   "cell_type": "code",
   "execution_count": 2,
   "metadata": {},
   "outputs": [
    {
     "name": "stdout",
     "output_type": "stream",
     "text": [
      "Requirement already satisfied: numpy in /home/gitpod/.pyenv/versions/3.8.12/lib/python3.8/site-packages (1.22.3)\n",
      "\u001b[33mWARNING: You are using pip version 22.0.3; however, version 22.0.4 is available.\n",
      "You should consider upgrading via the '/home/gitpod/.pyenv/versions/3.8.12/bin/python -m pip install --upgrade pip' command.\u001b[0m\u001b[33m\n",
      "\u001b[0mNote: you may need to restart the kernel to use updated packages.\n"
     ]
    }
   ],
   "source": [
    "pip install numpy"
   ]
  },
  {
   "cell_type": "code",
   "execution_count": 3,
   "metadata": {},
   "outputs": [
    {
     "name": "stdout",
     "output_type": "stream",
     "text": [
      "[0, 1, 2, 3, 4]\n",
      "[(0, 2), (2, 4)]\n",
      "[1]\n",
      "[2, 0]\n",
      "[2, 4]\n",
      "[3]\n"
     ]
    }
   ],
   "source": [
    "from networkx. generators. random_graphs import erdos_renyi_graph\n",
    "import networkx as nx\n",
    "\n",
    "n = 5\n",
    "p = 0.5\n",
    "g = erdos_renyi_graph(n, p)\n",
    "print(g.nodes)\n",
    "# [0, 1, 2, 3, 4, 5]\n",
    "print(g.edges)\n",
    "# [(0, 1), (0, 2), (0, 4), (1, 2), (1, 5), (3, 4), (4, 5)]\n",
    "for clq in nx.clique.find_cliques(g):\n",
    "    print (clq)"
   ]
  },
  {
   "cell_type": "code",
   "execution_count": 4,
   "metadata": {},
   "outputs": [
    {
     "name": "stdout",
     "output_type": "stream",
     "text": [
      "[[1 0]\n",
      " [0 1]\n",
      " [2 2]\n",
      " [0 3]\n",
      " [1 4]]\n",
      "[[0 1]\n",
      " [0 3]\n",
      " [1 0]\n",
      " [1 4]\n",
      " [2 2]]\n"
     ]
    }
   ],
   "source": [
    "import numpy as np\n",
    "\n",
    "degree = np.arange(2*n).reshape(n,2)\n",
    "\n",
    "temp=0\n",
    "\n",
    "\n",
    "\n",
    "for i in range(n) :\n",
    "    for k in g.edges :\n",
    "        if i in k :\n",
    "            temp+=1\n",
    "    degree[i,0]=temp\n",
    "    degree[i,1]=i\n",
    "    temp=0\n",
    "\n",
    "print(degree)\n",
    "sorteddeg = degree[degree[:,0].argsort()]\n",
    "print(sorteddeg)"
   ]
  }
 ],
 "metadata": {
  "interpreter": {
   "hash": "8b8334dab9339717f727a1deaf837b322d7a41c20d15cc86be99a8e69ceec8ce"
  },
  "kernelspec": {
   "display_name": "Python 3.8.12 64-bit ('3.8.12')",
   "language": "python",
   "name": "python3"
  },
  "language_info": {
   "codemirror_mode": {
    "name": "ipython",
    "version": 3
   },
   "file_extension": ".py",
   "mimetype": "text/x-python",
   "name": "python",
   "nbconvert_exporter": "python",
   "pygments_lexer": "ipython3",
   "version": "3.8.12"
  },
  "orig_nbformat": 4
 },
 "nbformat": 4,
 "nbformat_minor": 2
}
